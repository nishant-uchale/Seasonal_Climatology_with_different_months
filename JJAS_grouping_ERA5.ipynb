{
 "cells": [
  {
   "cell_type": "code",
   "execution_count": 4,
   "id": "4fc407c1-61ca-48c5-ba43-bfab137574d2",
   "metadata": {},
   "outputs": [],
   "source": [
    "import numpy as np\n",
    "import xarray as xr\n",
    "import pandas as pd\n",
    "import matplotlib.pyplot as plt\n",
    "import glob as glob\n",
    "import seaborn as sns\n",
    "from scipy.stats import norm\n",
    "import warnings\n",
    "warnings.filterwarnings(\"ignore\")"
   ]
  },
  {
   "cell_type": "code",
   "execution_count": 17,
   "id": "79dd9b82-8cde-49f8-9638-57900cec64f2",
   "metadata": {},
   "outputs": [],
   "source": [
    "months  = ['January','February','March','April','May','June','July','August','September','October','November','December']"
   ]
  },
  {
   "cell_type": "code",
   "execution_count": 21,
   "id": "159360a6-1019-4e55-a757-8e443e0f3575",
   "metadata": {},
   "outputs": [],
   "source": [
    "temp_files=glob.glob('<path>')\n",
    "var=xr.open_mfdataset(temp_files)['var']\n",
    "var=t2m.resample(time='1D').mean()\n",
    "var=t2m.groupby('time.month')\n",
    "# The code can be modified according to the climatology of months required by changing the list (var_JAS)'s length and the indices in the loop. \n",
    "var_JAS=[None]*3\n",
    "for i in range(7,10): # integers 7,8,9 indicate indices/labels of Jul, Aug, Sept \n",
    "    var_JAS[i-7]= var[i].mean('time').assign_coords({'month':months[i-1]}).expand_dims('month')\n",
    "JAS_clim=xr.concat(var_JAS, dim='month')"
   ]
  },
  {
   "cell_type": "code",
   "execution_count": null,
   "id": "330b3314-3784-4d26-abcd-42837f38ed11",
   "metadata": {},
   "outputs": [],
   "source": []
  }
 ],
 "metadata": {
  "kernelspec": {
   "display_name": "AI",
   "language": "python",
   "name": "ai"
  },
  "language_info": {
   "codemirror_mode": {
    "name": "ipython",
    "version": 3
   },
   "file_extension": ".py",
   "mimetype": "text/x-python",
   "name": "python",
   "nbconvert_exporter": "python",
   "pygments_lexer": "ipython3",
   "version": "3.7.12"
  }
 },
 "nbformat": 4,
 "nbformat_minor": 5
}
