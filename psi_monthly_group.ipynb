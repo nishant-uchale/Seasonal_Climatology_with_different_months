{
 "cells": [
  {
   "cell_type": "code",
   "execution_count": 1,
   "id": "a7a3cc9f-0b26-4605-a90d-8d5cc6839258",
   "metadata": {},
   "outputs": [],
   "source": [
    "import numpy as np\n",
    "import xarray as xr\n",
    "import pandas as pd\n",
    "import matplotlib.pyplot as plt\n",
    "import glob as glob\n",
    "#import seaborn as sns\n",
    "#from scipy.stats import norm\n",
    "import warnings\n",
    "warnings.filterwarnings(\"ignore\")"
   ]
  },
  {
   "cell_type": "code",
   "execution_count": 2,
   "id": "06c93e00-8a06-4b48-9058-d2ff637e17b7",
   "metadata": {},
   "outputs": [],
   "source": [
    "temp_files=glob.glob('*.nc')"
   ]
  },
  {
   "cell_type": "code",
   "execution_count": 3,
   "id": "0fdf7848-7d81-4d51-8a43-6e5e52ea16cf",
   "metadata": {},
   "outputs": [
    {
     "data": {
      "text/plain": [
       "array([1980, 1981, 1982, 1983, 1984, 1985, 1986, 1987, 1988, 1989, 1990,\n",
       "       1991, 1992, 1993, 1994, 1995, 1996, 1997, 1998, 1999, 2000, 2001,\n",
       "       2002, 2003, 2004, 2005, 2006, 2007, 2008, 2009, 2010, 2011, 2012,\n",
       "       2013, 2014, 2015, 2016, 2017, 2018, 2019, 2020, 2021])"
      ]
     },
     "execution_count": 3,
     "metadata": {},
     "output_type": "execute_result"
    }
   ],
   "source": [
    "year_tup=np.arange(1980,2022,1)\n",
    "year_tup"
   ]
  },
  {
   "cell_type": "code",
   "execution_count": 4,
   "id": "31c02442-0053-47d2-8f0e-d42dbfe8abcb",
   "metadata": {},
   "outputs": [],
   "source": [
    "years = [str(i) for i in range(1980,2022)]\n",
    "data=[None]*42\n",
    "for i in range(0,42):\n",
    "    data[i]=xr.open_dataset('psi.'+years[i]+'.nc')\n",
    "final_data=xr.concat(data, dim='time')    "
   ]
  },
  {
   "cell_type": "code",
   "execution_count": 5,
   "id": "2fc1da31-dc3e-4bbb-8fe6-5989a0468c26",
   "metadata": {},
   "outputs": [
    {
     "data": {
      "text/plain": [
       "DataArrayGroupBy, grouped over 'year'\n",
       "42 groups with labels 1980, 1981, 1982, ..., 2020, 2021."
      ]
     },
     "execution_count": 5,
     "metadata": {},
     "output_type": "execute_result"
    }
   ],
   "source": [
    "a=final_data['psi'].groupby('time.year')\n",
    "a"
   ]
  },
  {
   "cell_type": "code",
   "execution_count": 6,
   "id": "90f60c90-78b8-45ef-a225-661804febd14",
   "metadata": {},
   "outputs": [],
   "source": [
    "year_month=[None]*42\n",
    "for i in range(0,42):\n",
    "    year_month[i]=a[year_tup[i]].groupby('time.month').mean()"
   ]
  },
  {
   "cell_type": "code",
   "execution_count": 7,
   "id": "ea20e07c-7b4c-4d2f-8e6f-e9e263faea96",
   "metadata": {},
   "outputs": [],
   "source": [
    "bhosdike=xr.concat(year_month, dim='month')"
   ]
  },
  {
   "cell_type": "code",
   "execution_count": 8,
   "id": "8cb917fe-7998-42cb-b5a8-5b9c7ab19130",
   "metadata": {},
   "outputs": [],
   "source": [
    "bhosdike.to_netcdf('psi_all_monthly.nc', mode='w')"
   ]
  },
  {
   "cell_type": "code",
   "execution_count": null,
   "id": "cf5a90ca-b603-49bd-82ca-614ff036aea6",
   "metadata": {},
   "outputs": [],
   "source": []
  }
 ],
 "metadata": {
  "kernelspec": {
   "display_name": "Python 3 (ipykernel)",
   "language": "python",
   "name": "python3"
  },
  "language_info": {
   "codemirror_mode": {
    "name": "ipython",
    "version": 3
   },
   "file_extension": ".py",
   "mimetype": "text/x-python",
   "name": "python",
   "nbconvert_exporter": "python",
   "pygments_lexer": "ipython3",
   "version": "3.10.9"
  }
 },
 "nbformat": 4,
 "nbformat_minor": 5
}
